{
 "cells": [
  {
   "cell_type": "code",
   "execution_count": 32,
   "metadata": {
    "collapsed": false
   },
   "outputs": [],
   "source": [
    "import os\n",
    "\n",
    "import numpy as np\n",
    "import scipy.misc\n",
    "from sklearn.metrics import *\n",
    "from sklearn.model_selection import *\n",
    "from sklearn.preprocessing import *\n",
    "import tensorflow as tf\n",
    "from PIL import Image"
   ]
  },
  {
   "cell_type": "code",
   "execution_count": 33,
   "metadata": {
    "collapsed": true
   },
   "outputs": [],
   "source": [
    "tf.logging.set_verbosity(tf.logging.INFO)"
   ]
  },
  {
   "cell_type": "code",
   "execution_count": 34,
   "metadata": {
    "collapsed": true
   },
   "outputs": [],
   "source": [
    "RED = 0\n",
    "GREEN = 1\n",
    "BLUE = 2"
   ]
  },
  {
   "cell_type": "code",
   "execution_count": 35,
   "metadata": {
    "collapsed": true
   },
   "outputs": [],
   "source": [
    "def determine_color_from_filename(filename):\n",
    "    if 'blue' in filename.lower():\n",
    "        return BLUE\n",
    "    if 'green' in filename.lower():\n",
    "        return GREEN\n",
    "    return RED"
   ]
  },
  {
   "cell_type": "code",
   "execution_count": 36,
   "metadata": {
    "collapsed": true
   },
   "outputs": [],
   "source": [
    "def scale_unit_feature(X):\n",
    "    unit_scaler = MinMaxScaler((0, 1))\n",
    "    original_size = X.shape\n",
    "    X = np.reshape(X, (X.shape[0], np.prod(X.shape[1:])))\n",
    "    X = unit_scaler.fit_transform(X)\n",
    "    X = np.reshape(X, original_size)\n",
    "    return X"
   ]
  },
  {
   "cell_type": "code",
   "execution_count": 37,
   "metadata": {
    "collapsed": true
   },
   "outputs": [],
   "source": [
    "def convert_to_one_hot(y):\n",
    "    return OneHotEncoder(3, sparse=False).fit_transform(y).astype('int32')"
   ]
  },
  {
   "cell_type": "code",
   "execution_count": 38,
   "metadata": {
    "collapsed": false
   },
   "outputs": [],
   "source": [
    "raw_X = []\n",
    "raw_y = []\n",
    "for folder_path, folders, filenames in os.walk('data/input'):\n",
    "    for filename in filenames:\n",
    "        filepath = os.path.join(folder_path, filename)\n",
    "        image = Image.open(filepath).convert('RGB')\n",
    "        image = np.array(image)\n",
    "        raw_X.append(image)\n",
    "        raw_y.append(determine_color_from_filename(filename))\n",
    "\n",
    "X = np.array(raw_X, dtype='float32')\n",
    "y = np.array(raw_y, dtype='int32')"
   ]
  },
  {
   "cell_type": "code",
   "execution_count": 39,
   "metadata": {
    "collapsed": false
   },
   "outputs": [
    {
     "name": "stdout",
     "output_type": "stream",
     "text": [
      "X.shape:  (470, 64, 64, 3)\n",
      "y.shape:  (470,)\n"
     ]
    }
   ],
   "source": [
    "print('X.shape: ', X.shape)\n",
    "print('y.shape: ', y.shape)"
   ]
  },
  {
   "cell_type": "code",
   "execution_count": 40,
   "metadata": {
    "collapsed": false
   },
   "outputs": [],
   "source": [
    "# X = scale_unit_feature(X)\n",
    "# y = convert_to_one_hot(y)"
   ]
  },
  {
   "cell_type": "code",
   "execution_count": 41,
   "metadata": {
    "collapsed": false
   },
   "outputs": [
    {
     "name": "stdout",
     "output_type": "stream",
     "text": [
      "X.shape:  (470, 64, 64, 3)\n",
      "y.shape:  (470,)\n"
     ]
    }
   ],
   "source": [
    "print('X.shape: ', X.shape)\n",
    "print('y.shape: ', y.shape)"
   ]
  },
  {
   "cell_type": "code",
   "execution_count": 42,
   "metadata": {
    "collapsed": false
   },
   "outputs": [],
   "source": [
    "X_train, X_cv, y_train, y_cv = train_test_split(X, y, test_size = 0.2)"
   ]
  },
  {
   "cell_type": "code",
   "execution_count": 43,
   "metadata": {
    "collapsed": false
   },
   "outputs": [
    {
     "name": "stdout",
     "output_type": "stream",
     "text": [
      "X_train.shape:  (376, 64, 64, 3)\n",
      "X_cv.shape:  (94, 64, 64, 3)\n",
      "y_train.shape:  (376,)\n",
      "y_cv.shape:  (94,)\n"
     ]
    }
   ],
   "source": [
    "print('X_train.shape: ', X_train.shape)\n",
    "print('X_cv.shape: ', X_cv.shape)\n",
    "print('y_train.shape: ', y_train.shape)\n",
    "print('y_cv.shape: ', y_cv.shape)"
   ]
  },
  {
   "cell_type": "markdown",
   "metadata": {},
   "source": [
    "Begin Tensorflow Code"
   ]
  },
  {
   "cell_type": "code",
   "execution_count": 44,
   "metadata": {
    "collapsed": false
   },
   "outputs": [],
   "source": [
    "feature_columns = tf.contrib.learn.infer_real_valued_columns_from_input(X_train)"
   ]
  },
  {
   "cell_type": "code",
   "execution_count": 52,
   "metadata": {
    "collapsed": false
   },
   "outputs": [
    {
     "name": "stderr",
     "output_type": "stream",
     "text": [
      "WARNING:tensorflow:Using default config.\n",
      "INFO:tensorflow:Using config: {'save_summary_steps': 100, 'keep_checkpoint_max': 5, 'num_ps_replicas': 0, '_job_name': None, 'tf_random_seed': None, 'cluster_spec': None, 'master': '', 'task': 0, 'evaluation_master': '', 'tf_config': gpu_options {\n",
      "  per_process_gpu_memory_fraction: 1\n",
      "}\n",
      ", 'save_checkpoints_secs': 600, 'keep_checkpoint_every_n_hours': 10000, '_is_chief': True}\n"
     ]
    }
   ],
   "source": [
    "classifier = tf.contrib.learn.DNNClassifier(feature_columns=feature_columns,\n",
    "                                            hidden_units=[32],\n",
    "                                            enable_centered_bias=True,\n",
    "                                            n_classes=3)\n"
   ]
  },
  {
   "cell_type": "code",
   "execution_count": 53,
   "metadata": {
    "collapsed": false
   },
   "outputs": [
    {
     "name": "stderr",
     "output_type": "stream",
     "text": [
      "INFO:tensorflow:Setting feature info to TensorSignature(dtype=tf.float32, shape=TensorShape([Dimension(None), Dimension(64), Dimension(64), Dimension(3)]), is_sparse=False)\n",
      "INFO:tensorflow:Setting targets info to TensorSignature(dtype=tf.int32, shape=TensorShape([Dimension(None)]), is_sparse=False)\n",
      "INFO:tensorflow:Transforming feature_column _RealValuedColumn(column_name='', dimension=12288, default_value=None, dtype=tf.float32, normalizer=None)\n",
      "INFO:tensorflow:Create CheckpointSaverHook\n",
      "INFO:tensorflow:loss = 106.553, step = 1\n",
      "INFO:tensorflow:Saving checkpoints for 1 into /tmp/tmpl3tivwn4/model.ckpt.\n",
      "INFO:tensorflow:loss = 0.0, step = 101\n",
      "INFO:tensorflow:loss = 0.0, step = 201\n",
      "INFO:tensorflow:loss = 0.0, step = 301\n",
      "INFO:tensorflow:loss = 0.0, step = 401\n",
      "INFO:tensorflow:loss = 0.0, step = 501\n",
      "INFO:tensorflow:loss = 0.0, step = 601\n",
      "INFO:tensorflow:loss = 0.0, step = 701\n",
      "INFO:tensorflow:loss = 0.0, step = 801\n",
      "INFO:tensorflow:loss = 0.0, step = 901\n",
      "INFO:tensorflow:loss = 0.0, step = 1001\n",
      "INFO:tensorflow:loss = 0.0, step = 1101\n",
      "INFO:tensorflow:loss = 0.0, step = 1201\n",
      "INFO:tensorflow:loss = 0.0, step = 1301\n",
      "INFO:tensorflow:loss = 0.0, step = 1401\n",
      "INFO:tensorflow:loss = 0.0, step = 1501\n",
      "INFO:tensorflow:loss = 0.0, step = 1601\n",
      "INFO:tensorflow:loss = 0.0, step = 1701\n",
      "INFO:tensorflow:loss = 0.0, step = 1801\n",
      "INFO:tensorflow:loss = 0.0, step = 1901\n",
      "INFO:tensorflow:Saving checkpoints for 2000 into /tmp/tmpl3tivwn4/model.ckpt.\n",
      "INFO:tensorflow:Loss for final step: 0.0.\n"
     ]
    },
    {
     "data": {
      "text/plain": [
       "Estimator(params={'activation_fn': <function relu at 0x7f83e810c0d0>, 'weight_column_name': None, 'optimizer': 'Adagrad', 'gradient_clip_norm': None, 'feature_columns': [_RealValuedColumn(column_name='', dimension=12288, default_value=None, dtype=tf.float32, normalizer=None)], 'hidden_units': [32], 'n_classes': 3, 'enable_centered_bias': True, 'num_ps_replicas': 0, 'dropout': None})"
      ]
     },
     "execution_count": 53,
     "metadata": {},
     "output_type": "execute_result"
    }
   ],
   "source": [
    "classifier.fit(X_train, y_train, batch_size=100, steps=2000)"
   ]
  },
  {
   "cell_type": "code",
   "execution_count": 69,
   "metadata": {
    "collapsed": false
   },
   "outputs": [
    {
     "name": "stderr",
     "output_type": "stream",
     "text": [
      "INFO:tensorflow:Transforming feature_column _RealValuedColumn(column_name='', dimension=12288, default_value=None, dtype=tf.float32, normalizer=None)\n"
     ]
    }
   ],
   "source": [
    "y_cv_pred = classifier.predict(X_cv, as_iterable=True)"
   ]
  },
  {
   "cell_type": "code",
   "execution_count": 70,
   "metadata": {
    "collapsed": false
   },
   "outputs": [
    {
     "name": "stderr",
     "output_type": "stream",
     "text": [
      "INFO:tensorflow:Loading model from checkpoint: /tmp/tmpl3tivwn4/model.ckpt-2000-?????-of-00001.\n"
     ]
    },
    {
     "name": "stdout",
     "output_type": "stream",
     "text": [
      "[1, 1, 0, 2, 2, 0, 1, 2, 2, 1, 0, 1, 2, 0, 0, 0, 0, 2, 2, 0, 2, 0, 1, 2, 2, 1, 0, 1, 1, 2, 1, 0, 0, 1, 0, 1, 1, 0, 1, 0, 2, 0, 1, 0, 1, 1, 0, 0, 1, 2, 0, 1, 1, 1, 1, 1, 2, 2, 0, 1, 2, 2, 1, 2, 2, 2, 2, 1, 1, 0, 0, 2, 2, 2, 1, 0, 2, 0, 2, 2, 0, 2, 2, 2, 0, 2, 0, 0, 1, 2, 2, 1, 1, 0]\n"
     ]
    }
   ],
   "source": [
    "y_cv_pred = [i[0] for i in y_cv_pred]\n",
    "print(y_cv_pred)"
   ]
  },
  {
   "cell_type": "code",
   "execution_count": 71,
   "metadata": {
    "collapsed": false
   },
   "outputs": [
    {
     "name": "stdout",
     "output_type": "stream",
     "text": [
      "Accuracy score:  0.968085106383\n"
     ]
    }
   ],
   "source": [
    "print('Accuracy score: ', accuracy_score(y_cv, y_cv_pred))"
   ]
  },
  {
   "cell_type": "code",
   "execution_count": null,
   "metadata": {
    "collapsed": true
   },
   "outputs": [],
   "source": []
  },
  {
   "cell_type": "code",
   "execution_count": null,
   "metadata": {
    "collapsed": true
   },
   "outputs": [],
   "source": []
  }
 ],
 "metadata": {
  "kernelspec": {
   "display_name": "Python 3",
   "language": "python",
   "name": "python3"
  },
  "language_info": {
   "codemirror_mode": {
    "name": "ipython",
    "version": 3
   },
   "file_extension": ".py",
   "mimetype": "text/x-python",
   "name": "python",
   "nbconvert_exporter": "python",
   "pygments_lexer": "ipython3",
   "version": "3.4.3"
  }
 },
 "nbformat": 4,
 "nbformat_minor": 0
}
